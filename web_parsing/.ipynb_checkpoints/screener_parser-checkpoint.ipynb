{
 "cells": [
  {
   "cell_type": "code",
   "execution_count": 13,
   "id": "b322a745-fdc7-4b48-a289-d9e4fa23d195",
   "metadata": {},
   "outputs": [],
   "source": [
    "from bs4 import BeautifulSoup"
   ]
  },
  {
   "cell_type": "code",
   "execution_count": 14,
   "id": "4925b226-4a23-475f-bb6d-4b11bff10a7a",
   "metadata": {},
   "outputs": [],
   "source": [
    "import requests"
   ]
  },
  {
   "cell_type": "code",
   "execution_count": 15,
   "id": "0d96fee8-2ad4-4dda-85f1-bed589c5c10f",
   "metadata": {},
   "outputs": [],
   "source": [
    "r = requests.get('https://www.screener.in/company/ASIANPAINT/consolidated/')"
   ]
  },
  {
   "cell_type": "code",
   "execution_count": 16,
   "id": "1a18ffb0-345f-4b37-b25a-87d3bb988ba2",
   "metadata": {},
   "outputs": [
    {
     "data": {
      "text/plain": [
       "200"
      ]
     },
     "execution_count": 16,
     "metadata": {},
     "output_type": "execute_result"
    }
   ],
   "source": [
    "r.status_code"
   ]
  },
  {
   "cell_type": "code",
   "execution_count": 17,
   "id": "e6b3d269-e0f8-4860-aec4-11cb8d0b0531",
   "metadata": {},
   "outputs": [
    {
     "data": {
      "text/plain": [
       "'OK'"
      ]
     },
     "execution_count": 17,
     "metadata": {},
     "output_type": "execute_result"
    }
   ],
   "source": [
    "r.reason"
   ]
  },
  {
   "cell_type": "code",
   "execution_count": 18,
   "id": "d332c76c-eaa0-44cd-9863-bd7ed9898e11",
   "metadata": {},
   "outputs": [],
   "source": [
    "file = open(\"out.html\", \"w\",encoding=\"utf-8\")\n",
    "file.write(r.text)\n",
    "file.close()"
   ]
  },
  {
   "cell_type": "code",
   "execution_count": 19,
   "id": "9d2f5706-89c5-490a-9670-1a99c21e5f70",
   "metadata": {},
   "outputs": [],
   "source": [
    "soup = BeautifulSoup(r.text, \"html.parser\")"
   ]
  },
  {
   "cell_type": "code",
   "execution_count": 20,
   "id": "ac2fe898-04fd-4644-b396-01872c7c68f4",
   "metadata": {},
   "outputs": [],
   "source": [
    "books = soup.find_all(\"section\", id=\"profit-loss\")"
   ]
  },
  {
   "cell_type": "code",
   "execution_count": 21,
   "id": "0d8a2aea-44b0-422a-a10d-adf453abd7b2",
   "metadata": {},
   "outputs": [],
   "source": [
    "PnL_table = books[0].find('table')"
   ]
  },
  {
   "cell_type": "code",
   "execution_count": 22,
   "id": "b801544d-2a1a-4f36-b521-8996d6e3166b",
   "metadata": {},
   "outputs": [
    {
     "data": {
      "text/plain": [
       "'\\n            Mar 2020\\n            \\n          '"
      ]
     },
     "execution_count": 22,
     "metadata": {},
     "output_type": "execute_result"
    }
   ],
   "source": [
    "heading = PnL_table.find_all('th', class_=\"\")\n",
    "heading[7].text"
   ]
  },
  {
   "cell_type": "code",
   "execution_count": 23,
   "id": "81dc90cf-b2f8-4199-8dea-bc2b9e36f62f",
   "metadata": {},
   "outputs": [],
   "source": [
    "numbers = PnL_table.tbody.find_all('tr')\n",
    "sales_num = numbers[0]\n",
    "op_num = numbers[2] # operating profit\n"
   ]
  },
  {
   "cell_type": "code",
   "execution_count": 24,
   "id": "36ef0a87-49dd-4776-9fee-a20b23491a4f",
   "metadata": {},
   "outputs": [
    {
     "data": {
      "text/plain": [
       "[<td class=\"\">10,504</td>,\n",
       " <td class=\"\">12,220</td>,\n",
       " <td class=\"\">13,615</td>,\n",
       " <td class=\"\">14,271</td>,\n",
       " <td class=\"\">15,062</td>,\n",
       " <td class=\"\">16,825</td>,\n",
       " <td class=\"\">19,240</td>,\n",
       " <td class=\"\">20,211</td>,\n",
       " <td class=\"\">21,713</td>,\n",
       " <td class=\"\">29,101</td>,\n",
       " <td class=\"\">34,489</td>,\n",
       " <td class=\"\">35,495</td>,\n",
       " <td class=\"\">34,831</td>]"
      ]
     },
     "execution_count": 24,
     "metadata": {},
     "output_type": "execute_result"
    }
   ],
   "source": [
    "sales_num.find_all('td', class_=\"\")"
   ]
  },
  {
   "cell_type": "code",
   "execution_count": 32,
   "id": "ff581b27-1464-44eb-8b65-0e366c817bfc",
   "metadata": {},
   "outputs": [],
   "source": [
    "OP_num = numbers[2] # OP= operating profit\n",
    "OtherInc_num = numbers[4] # Other income\n",
    "Int_num = numbers[5]\n",
    "Depre_num = numbers[6]\n",
    "PBT_num = numbers[7]\n",
    "PAT_num = numbers[9]\n",
    "EPS_num = numbers[10]\n",
    "Div_payout_num = numbers[11]"
   ]
  },
  {
   "cell_type": "markdown",
   "id": "01036583-1dc0-457b-83f1-2173aef6fc36",
   "metadata": {},
   "source": [
    "<h2>Balance sheet data extraction</h2>"
   ]
  },
  {
   "cell_type": "code",
   "execution_count": 37,
   "id": "3f582d5d-5fc9-4f5b-8d74-0894cd9a3854",
   "metadata": {},
   "outputs": [],
   "source": [
    "BS_table = soup.find(\"section\", id=\"balance-sheet\").find('table').tbody.find_all('tr')\n"
   ]
  },
  {
   "cell_type": "code",
   "execution_count": 56,
   "id": "6bd6816d-7743-4e24-9fe9-c41df581f590",
   "metadata": {},
   "outputs": [
    {
     "data": {
      "text/plain": [
       "[<td class=\"\">296</td>,\n",
       " <td class=\"\">1,424</td>,\n",
       " <td class=\"\">1,588</td>,\n",
       " <td class=\"\">2,712</td>,\n",
       " <td class=\"\">2,652</td>,\n",
       " <td class=\"\">2,141</td>,\n",
       " <td class=\"\">2,569</td>,\n",
       " <td class=\"\">2,019</td>,\n",
       " <td class=\"\">4,737</td>,\n",
       " <td class=\"\">3,248</td>,\n",
       " <td class=\"\">4,262</td>,\n",
       " <td class=\"\">4,588</td>,\n",
       " <td class=\"\">3,695</td>]"
      ]
     },
     "execution_count": 56,
     "metadata": {},
     "output_type": "execute_result"
    }
   ],
   "source": [
    "Eq_num = BS_table[0]\n",
    "Rsrv_num = BS_table[1]\n",
    "Borrow_num = BS_table[2]\n",
    "FixedAsset_num = BS_table[5]\n",
    "CWIP_num = BS_table[6]\n",
    "Investment_num = BS_table[7]\n",
    "Investment_num.find_all('td', class_=\"\")\n"
   ]
  },
  {
   "cell_type": "markdown",
   "id": "e9fffc6f-72ce-452b-8567-3d8a5e86a9b9",
   "metadata": {},
   "source": [
    "<h2>Cash Flow data extraction</h2>"
   ]
  },
  {
   "cell_type": "code",
   "execution_count": 53,
   "id": "5bdb7172-0de1-40f2-9754-19d86348d44e",
   "metadata": {},
   "outputs": [
    {
     "data": {
      "text/plain": [
       "[<td class=\"\">1,187</td>,\n",
       " <td class=\"\">1,402</td>,\n",
       " <td class=\"\">1,188</td>,\n",
       " <td class=\"\">2,243</td>,\n",
       " <td class=\"\">1,527</td>,\n",
       " <td class=\"\">2,113</td>,\n",
       " <td class=\"\">2,470</td>,\n",
       " <td class=\"\">3,038</td>,\n",
       " <td class=\"\">3,683</td>,\n",
       " <td class=\"\">986</td>,\n",
       " <td class=\"\">4,193</td>,\n",
       " <td class=\"\">6,104</td>]"
      ]
     },
     "execution_count": 53,
     "metadata": {},
     "output_type": "execute_result"
    }
   ],
   "source": [
    "Cash_table = soup.find(\"section\", id=\"cash-flow\").find('table').tbody.find_all('tr')\n",
    "CFO_num = Cash_table[0]\n",
    "CFI_num = Cash_table[1]\n",
    "CFF_num = Cash_table[2]\n",
    "CFO_num.find_all('td', class_=\"\")"
   ]
  },
  {
   "cell_type": "code",
   "execution_count": 54,
   "id": "2cbd2a94-d513-4a54-88dc-ec9b3f5576be",
   "metadata": {},
   "outputs": [
    {
     "ename": "IndexError",
     "evalue": "list index out of range",
     "output_type": "error",
     "traceback": [
      "\u001b[1;31m---------------------------------------------------------------------------\u001b[0m",
      "\u001b[1;31mIndexError\u001b[0m                                Traceback (most recent call last)",
      "Cell \u001b[1;32mIn[54], line 52\u001b[0m\n\u001b[0;32m     49\u001b[0m     Investment_num_arr\u001b[38;5;241m.\u001b[39mappend(Investment_num\u001b[38;5;241m.\u001b[39mfind_all(\u001b[38;5;124m'\u001b[39m\u001b[38;5;124mtd\u001b[39m\u001b[38;5;124m'\u001b[39m, class_\u001b[38;5;241m=\u001b[39m\u001b[38;5;124m\"\u001b[39m\u001b[38;5;124m\"\u001b[39m)[i]\u001b[38;5;241m.\u001b[39mtext)\n\u001b[0;32m     51\u001b[0m     \u001b[38;5;66;03m# CFO_num_arr.append(CFO_num.find_all('td', class_=\"\")[i].text)\u001b[39;00m\n\u001b[1;32m---> 52\u001b[0m     CFI_num_arr\u001b[38;5;241m.\u001b[39mappend(CFI_num\u001b[38;5;241m.\u001b[39mfind_all(\u001b[38;5;124m'\u001b[39m\u001b[38;5;124mtd\u001b[39m\u001b[38;5;124m'\u001b[39m, class_\u001b[38;5;241m=\u001b[39m\u001b[38;5;124m\"\u001b[39m\u001b[38;5;124m\"\u001b[39m)[i]\u001b[38;5;241m.\u001b[39mtext)\n\u001b[0;32m     53\u001b[0m     CFF_num_arr\u001b[38;5;241m.\u001b[39mappend(CFF_num\u001b[38;5;241m.\u001b[39mfind_all(\u001b[38;5;124m'\u001b[39m\u001b[38;5;124mtd\u001b[39m\u001b[38;5;124m'\u001b[39m, class_\u001b[38;5;241m=\u001b[39m\u001b[38;5;124m\"\u001b[39m\u001b[38;5;124m\"\u001b[39m)[i]\u001b[38;5;241m.\u001b[39mtext)\n\u001b[0;32m     55\u001b[0m df \u001b[38;5;241m=\u001b[39m pd\u001b[38;5;241m.\u001b[39mDataFrame({\n\u001b[0;32m     56\u001b[0m     \u001b[38;5;124m'\u001b[39m\u001b[38;5;124mStock Name\u001b[39m\u001b[38;5;124m'\u001b[39m: [Stock_name]\u001b[38;5;241m*\u001b[39m no_of_yrs,\n\u001b[0;32m     57\u001b[0m     \u001b[38;5;124m'\u001b[39m\u001b[38;5;124mFY\u001b[39m\u001b[38;5;124m'\u001b[39m:FY_arr,\n\u001b[1;32m   (...)\u001b[0m\n\u001b[0;32m     82\u001b[0m     \n\u001b[0;32m     83\u001b[0m })\n",
      "\u001b[1;31mIndexError\u001b[0m: list index out of range"
     ]
    }
   ],
   "source": [
    "import pandas as pd\n",
    "FY_arr = []\n",
    "Sales_arr = []\n",
    "OP_num_arr = []\n",
    "OtherInc_num_arr = []\n",
    "Int_num_arr = []\n",
    "Depre_num_arr = []\n",
    "PBT_num_arr = []\n",
    "PAT_num_arr = []\n",
    "EPS_num_arr = []\n",
    "Div_payout_num_arr = []\n",
    "\n",
    "# BS numbers\n",
    "Eq_num_arr = []\n",
    "Rsrv_num_arr = []\n",
    "Borrow_num_arr = []\n",
    "FixedAsset_num_arr = []\n",
    "CWIP_num_arr = []\n",
    "Investment_num_arr = []\n",
    "\n",
    "# Cash numbers\n",
    "CFO_num_arr = []\n",
    "CFI_num_arr = []\n",
    "CFF_num_arr = []\n",
    "\n",
    "Stock_name = 'ASIANPAINT'\n",
    "no_of_yrs = len(heading)\n",
    "\n",
    "for i in range(0,no_of_yrs):\n",
    "    # print(heading[i].text)\n",
    "    # print(sales_num.find_all('td', class_=\"\")[i].text)\n",
    "    FY_arr.append(heading[i].text)\n",
    "    Sales_arr.append(sales_num.find_all('td', class_=\"\")[i].text)\n",
    "    OP_num_arr.append(OP_num.find_all('td', class_=\"\")[i].text)\n",
    "\n",
    "    OtherInc_num_arr.append(OtherInc_num.find_all('td', class_=\"\")[i].text)\n",
    "    Int_num_arr.append(Int_num.find_all('td', class_=\"\")[i].text)\n",
    "    Depre_num_arr.append(Depre_num.find_all('td', class_=\"\")[i].text)\n",
    "    PBT_num_arr.append(PBT_num.find_all('td', class_=\"\")[i].text)\n",
    "    PAT_num_arr.append(PAT_num.find_all('td', class_=\"\")[i].text)\n",
    "    EPS_num_arr.append(EPS_num.find_all('td', class_=\"\")[i].text)\n",
    "    Div_payout_num_arr.append(Div_payout_num.find_all('td', class_=\"\")[i].text)\n",
    "\n",
    "    Eq_num_arr.append(Eq_num.find_all('td', class_=\"\")[i].text)\n",
    "    Rsrv_num_arr.append(Rsrv_num.find_all('td', class_=\"\")[i].text)\n",
    "    Borrow_num_arr.append(Borrow_num.find_all('td', class_=\"\")[i].text)\n",
    "    FixedAsset_num_arr.append(FixedAsset_num.find_all('td', class_=\"\")[i].text)\n",
    "    CWIP_num_arr.append(CWIP_num.find_all('td', class_=\"\")[i].text)\n",
    "    Investment_num_arr.append(Investment_num.find_all('td', class_=\"\")[i].text)\n",
    "\n",
    "    CFO_num_arr.append(CFO_num.find_all('td', class_=\"\")[i].text)\n",
    "    CFI_num_arr.append(CFI_num.find_all('td', class_=\"\")[i].text)\n",
    "    CFF_num_arr.append(CFF_num.find_all('td', class_=\"\")[i].text)\n",
    "\n",
    "df = pd.DataFrame({\n",
    "    'Stock Name': [Stock_name]* no_of_yrs,\n",
    "    'FY':FY_arr,\n",
    "    'Sales':Sales_arr,\n",
    "    'Operating Profit':OP_num_arr,\n",
    "    'Other Income':OtherInc_num_arr,\n",
    "    'Interest':Int_num_arr,\n",
    "    'Depreciation':Depre_num_arr,\n",
    "\n",
    "    'PBT':PBT_num_arr,\n",
    "    'PAT':PAT_num_arr,\n",
    "    'EPS':EPS_num_arr,\n",
    "    'Div Payout':Div_payout_num_arr,\n",
    "    # 'Sales':Int_num_arr,\n",
    "    # 'Operating Profit':Depre_num_arr,\n",
    "\n",
    "    'Eq Capital':Eq_num_arr,\n",
    "    'Reserves':Rsrv_num_arr,\n",
    "    \n",
    "    'Debt':Borrow_num_arr,\n",
    "    'Net Block':FixedAsset_num_arr,\n",
    "    'CWIP':CWIP_num_arr,\n",
    "    'Investment':Investment_num_arr,\n",
    "\n",
    "    'CFO': CFO,\n",
    "    'CFI': CFI,\n",
    "    'CFF': CFF\n",
    "    \n",
    "})\n",
    "df    "
   ]
  }
 ],
 "metadata": {
  "kernelspec": {
   "display_name": "Python 3 (ipykernel)",
   "language": "python",
   "name": "python3"
  },
  "language_info": {
   "codemirror_mode": {
    "name": "ipython",
    "version": 3
   },
   "file_extension": ".py",
   "mimetype": "text/x-python",
   "name": "python",
   "nbconvert_exporter": "python",
   "pygments_lexer": "ipython3",
   "version": "3.12.7"
  }
 },
 "nbformat": 4,
 "nbformat_minor": 5
}
