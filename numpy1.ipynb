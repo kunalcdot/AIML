{
 "cells": [
  {
   "cell_type": "code",
   "execution_count": 11,
   "id": "3ac4a4b4-ebbe-4105-a68d-acb389ebcc84",
   "metadata": {},
   "outputs": [
    {
     "data": {
      "text/plain": [
       "array([ -3,  -6, -20])"
      ]
     },
     "execution_count": 11,
     "metadata": {},
     "output_type": "execute_result"
    }
   ],
   "source": [
    "import numpy as np\n",
    "X=np.array([1,2,5])\n",
    "Y=np.array([5,10,30])\n",
    "m=2\n",
    "c=0\n",
    "Y_pred = m*X + c\n",
    "Y_pred - Y"
   ]
  },
  {
   "cell_type": "code",
   "execution_count": 17,
   "id": "7e56ba7e-2dfb-4ac5-9dc0-e8349740239f",
   "metadata": {},
   "outputs": [
    {
     "data": {
      "image/png": "[encoded data removed]",
      "text/plain": [
       "<Figure size 640x480 with 1 Axes>"
      ]
     },
     "metadata": {},
     "output_type": "display_data"
    }
   ],
   "source": [
    "from matplotlib import pyplot as plt \n",
    "\n",
    "#plt.plot(Y_pred, X) \n",
    "plt.scatter(X, Y_pred) \n",
    "# function to show the plot \n",
    "plt.show()"
   ]
  },
  {
   "cell_type": "code",
   "execution_count": 26,
   "id": "b5515f51-da35-44e5-9676-97eb37975fb5",
   "metadata": {},
   "outputs": [
    {
     "data": {
      "text/plain": [
       "array([ -3,  -6, -20])"
      ]
     },
     "execution_count": 26,
     "metadata": {},
     "output_type": "execute_result"
    }
   ],
   "source": [
    "Error = Y_pred - Y\n",
    "Error"
   ]
  },
  {
   "cell_type": "code",
   "execution_count": 34,
   "id": "7f121d70-8f58-4204-895c-c3a07ba537b3",
   "metadata": {},
   "outputs": [
    {
     "data": {
      "text/plain": [
       "array([  9,  36, 400])"
      ]
     },
     "execution_count": 34,
     "metadata": {},
     "output_type": "execute_result"
    }
   ],
   "source": [
    "(Y- Y_pred)**2"
   ]
  },
  {
   "cell_type": "code",
   "execution_count": 27,
   "id": "e5165f9d-e897-4b9b-80dc-c3da5dfc3c1e",
   "metadata": {},
   "outputs": [
    {
     "data": {
      "text/plain": [
       "-29"
      ]
     },
     "execution_count": 27,
     "metadata": {},
     "output_type": "execute_result"
    }
   ],
   "source": [
    "sum(Error)"
   ]
  },
  {
   "cell_type": "code",
   "execution_count": 28,
   "id": "20e95228-16f1-463a-803f-d02dc0aaba23",
   "metadata": {},
   "outputs": [
    {
     "data": {
      "text/plain": [
       "array([1, 2, 5])"
      ]
     },
     "execution_count": 28,
     "metadata": {},
     "output_type": "execute_result"
    }
   ],
   "source": [
    "X"
   ]
  },
  {
   "cell_type": "code",
   "execution_count": 29,
   "id": "f876bbd4-eb9e-4d86-bbc0-e87a92339e64",
   "metadata": {},
   "outputs": [
    {
     "data": {
      "text/plain": [
       "array([ 5, 10, 30])"
      ]
     },
     "execution_count": 29,
     "metadata": {},
     "output_type": "execute_result"
    }
   ],
   "source": [
    "Y"
   ]
  },
  {
   "cell_type": "code",
   "execution_count": 37,
   "id": "8be5ccd8-ba84-4bb1-b19e-f9e80c180af3",
   "metadata": {},
   "outputs": [
    {
     "data": {
      "text/plain": [
       "array([   25,   400, 22500])"
      ]
     },
     "execution_count": 37,
     "metadata": {},
     "output_type": "execute_result"
    }
   ],
   "source": [
    "Z = X*Y\n",
    "Z**2"
   ]
  },
  {
   "cell_type": "code",
   "execution_count": 40,
   "id": "6890957d-d10e-451a-92ac-0ed1275e0134",
   "metadata": {},
   "outputs": [
    {
     "data": {
      "text/plain": [
       "array([ 16,  64, 625])"
      ]
     },
     "execution_count": 40,
     "metadata": {},
     "output_type": "execute_result"
    }
   ],
   "source": [
    "(X-Y)**2\n",
    "#val**2 for val in  (X-Y)"
   ]
  }
 ],
 "metadata": {
  "kernelspec": {
   "display_name": "Python 3 (ipykernel)",
   "language": "python",
   "name": "python3"
  },
  "language_info": {
   "codemirror_mode": {
    "name": "ipython",
    "version": 3
   },
   "file_extension": ".py",
   "mimetype": "text/x-python",
   "name": "python",
   "nbconvert_exporter": "python",
   "pygments_lexer": "ipython3",
   "version": "3.12.7"
  }
 },
 "nbformat": 4,
 "nbformat_minor": 5
}
